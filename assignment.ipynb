{
 "cells": [
  {
   "cell_type": "markdown",
   "id": "a8124f21-2641-4a50-bef2-0fa9e06cd20b",
   "metadata": {},
   "source": [
    "Q1.Explain with an example each when to use a for loop and a while loop."
   ]
  },
  {
   "cell_type": "code",
   "execution_count": 1,
   "id": "a6fd5f13-6611-4bad-9ac8-6f7855d1a9d5",
   "metadata": {},
   "outputs": [],
   "source": [
    "# While loop: A loop that executes a single statement or a group of statements for the given true condition.\n",
    "# The keyword used to represent this loop is \"while\". A \"while\" loop is used when the number of iterations is unknown."
   ]
  },
  {
   "cell_type": "code",
   "execution_count": 2,
   "id": "cf4bec9d-bf48-4dc3-a155-96e6120da546",
   "metadata": {},
   "outputs": [
    {
     "name": "stdout",
     "output_type": "stream",
     "text": [
      "0\n",
      "1\n",
      "2\n",
      "3\n",
      "4\n",
      "5\n",
      "6\n",
      "7\n",
      "8\n",
      "9\n"
     ]
    }
   ],
   "source": [
    "count = 0\n",
    "while count<10:\n",
    "    print(count)\n",
    "    count+=1"
   ]
  },
  {
   "cell_type": "code",
   "execution_count": 3,
   "id": "3a0e3cf9-75ea-4557-a616-a42f3be88cbf",
   "metadata": {},
   "outputs": [],
   "source": [
    "# For loop: A for loop is a control flow statement that executes code repeatedly for a particular number of iterations.\n",
    "# In this control flow statement, the keyword used is for. The for loop is used when the number of iterations is already known."
   ]
  },
  {
   "cell_type": "code",
   "execution_count": 4,
   "id": "3678d329-28d0-4028-a9b8-02e624658bc6",
   "metadata": {},
   "outputs": [
    {
     "name": "stdout",
     "output_type": "stream",
     "text": [
      "0\n",
      "1\n",
      "2\n",
      "3\n",
      "4\n",
      "5\n",
      "6\n",
      "7\n",
      "8\n",
      "9\n"
     ]
    }
   ],
   "source": [
    "for i in range (10):\n",
    "    print(i)"
   ]
  },
  {
   "cell_type": "markdown",
   "id": "c718f2d4-705f-44a5-9f10-9459f7137bb2",
   "metadata": {},
   "source": [
    "Q2.Write a python program to print the sum and product of the first 10 natural numbers using for\n",
    "and while loop."
   ]
  },
  {
   "cell_type": "code",
   "execution_count": 5,
   "id": "3e83812e-4983-4741-b332-01d9f2d2dfaa",
   "metadata": {},
   "outputs": [
    {
     "name": "stdout",
     "output_type": "stream",
     "text": [
      "the sum of first 10 natural number is : 55\n",
      "the product of first 10 natural number is : 3628800\n"
     ]
    }
   ],
   "source": [
    "\n",
    "sum = 0\n",
    "product = 1\n",
    "for i in range (1,11):\n",
    "    sum+=i\n",
    "    product*=i\n",
    "print('the sum of first 10 natural number is :',sum)\n",
    "print('the product of first 10 natural number is :',product)"
   ]
  },
  {
   "cell_type": "code",
   "execution_count": 6,
   "id": "1479c32b-eadb-45cc-9387-f8a819408075",
   "metadata": {},
   "outputs": [
    {
     "name": "stdout",
     "output_type": "stream",
     "text": [
      "the sum of first 10 natural number is : 55\n",
      "the product of first 10 natural number is : 3628800\n"
     ]
    }
   ],
   "source": [
    "count = 1\n",
    "sum = 0\n",
    "product = 1\n",
    "while count<11:\n",
    "    sum+=count\n",
    "    product*=count\n",
    "    count+=1\n",
    "print('the sum of first 10 natural number is :',sum)\n",
    "print('the product of first 10 natural number is :',product)"
   ]
  },
  {
   "cell_type": "markdown",
   "id": "28e2f40d-4ac0-43cc-b377-395a78ea1723",
   "metadata": {},
   "source": [
    "Q3. Create a python program to compute the electricity bill for a household.\n",
    "The per-unit charges in rupees are as follows: For the first 100 units, the user will be charged Rs. 4.5 per\n",
    "unit, for the next 100 units, the user will be charged Rs. 6 per unit, and for the next 100 units, the user will\n",
    "be charged Rs. 10 per unit, After 300 units and above the user will be charged Rs. 20 per unit.\n",
    "You are required to take the units of electricity consumed in a month from the user as input.\n",
    "Your program must pass this test case: when the unit of electricity consumed by the user in a month is\n",
    "310, the total electricity bill should be 2250."
   ]
  },
  {
   "cell_type": "markdown",
   "id": "11d2acc1-4342-421b-be5c-a5258bc4cf33",
   "metadata": {},
   "source": [
    "unit = int(input(\"Enter your unit: \"))\n",
    "if unit <= 100:\n",
    "    bill = unit * 4.5\n",
    "elif unit >= 101 and unit <= 200:\n",
    "    bill = 450 + ((unit - 100) * 6)\n",
    "elif unit >= 201 and unit <= 300:\n",
    "    bill = 450 + 600 + ((unit - 200) * 10)\n",
    "else:\n",
    "    bill = 450 + 600 + 1000 + ((unit - 300) * 20)\n",
    "print(\"Bill Per Unit:\",bill)"
   ]
  },
  {
   "cell_type": "markdown",
   "id": "6f48c944-097e-43a5-8c47-d53691e311c0",
   "metadata": {},
   "source": [
    "Q4. Create a list of numbers from 1 to 100. Use for loop and while loop to calculate the cube of each\n",
    "number and if the cube of that number is divisible by 4 or 5 then append that number in a list and print\n",
    "that list."
   ]
  },
  {
   "cell_type": "code",
   "execution_count": 7,
   "id": "742102f9-0b4d-4160-8fb7-f842d6a57ff3",
   "metadata": {},
   "outputs": [],
   "source": [
    "l = list(range(1,101))"
   ]
  },
  {
   "cell_type": "code",
   "execution_count": 8,
   "id": "2b340259-46e5-44b2-bb7b-0824e9307ef5",
   "metadata": {},
   "outputs": [
    {
     "data": {
      "text/plain": [
       "[1,\n",
       " 2,\n",
       " 3,\n",
       " 4,\n",
       " 5,\n",
       " 6,\n",
       " 7,\n",
       " 8,\n",
       " 9,\n",
       " 10,\n",
       " 11,\n",
       " 12,\n",
       " 13,\n",
       " 14,\n",
       " 15,\n",
       " 16,\n",
       " 17,\n",
       " 18,\n",
       " 19,\n",
       " 20,\n",
       " 21,\n",
       " 22,\n",
       " 23,\n",
       " 24,\n",
       " 25,\n",
       " 26,\n",
       " 27,\n",
       " 28,\n",
       " 29,\n",
       " 30,\n",
       " 31,\n",
       " 32,\n",
       " 33,\n",
       " 34,\n",
       " 35,\n",
       " 36,\n",
       " 37,\n",
       " 38,\n",
       " 39,\n",
       " 40,\n",
       " 41,\n",
       " 42,\n",
       " 43,\n",
       " 44,\n",
       " 45,\n",
       " 46,\n",
       " 47,\n",
       " 48,\n",
       " 49,\n",
       " 50,\n",
       " 51,\n",
       " 52,\n",
       " 53,\n",
       " 54,\n",
       " 55,\n",
       " 56,\n",
       " 57,\n",
       " 58,\n",
       " 59,\n",
       " 60,\n",
       " 61,\n",
       " 62,\n",
       " 63,\n",
       " 64,\n",
       " 65,\n",
       " 66,\n",
       " 67,\n",
       " 68,\n",
       " 69,\n",
       " 70,\n",
       " 71,\n",
       " 72,\n",
       " 73,\n",
       " 74,\n",
       " 75,\n",
       " 76,\n",
       " 77,\n",
       " 78,\n",
       " 79,\n",
       " 80,\n",
       " 81,\n",
       " 82,\n",
       " 83,\n",
       " 84,\n",
       " 85,\n",
       " 86,\n",
       " 87,\n",
       " 88,\n",
       " 89,\n",
       " 90,\n",
       " 91,\n",
       " 92,\n",
       " 93,\n",
       " 94,\n",
       " 95,\n",
       " 96,\n",
       " 97,\n",
       " 98,\n",
       " 99,\n",
       " 100]"
      ]
     },
     "execution_count": 8,
     "metadata": {},
     "output_type": "execute_result"
    }
   ],
   "source": [
    "l"
   ]
  },
  {
   "cell_type": "code",
   "execution_count": 9,
   "id": "1b7f6fd0-2d31-4607-bb2d-200694b9419c",
   "metadata": {},
   "outputs": [],
   "source": [
    "l1 = []\n",
    "for i in l:\n",
    "    x=i**3\n",
    "    if x%4 == 0 or x%5 == 0:\n",
    "        l1.append(i)"
   ]
  },
  {
   "cell_type": "code",
   "execution_count": 10,
   "id": "91b68373-f18a-490d-bc81-8c053cb9f3d4",
   "metadata": {},
   "outputs": [
    {
     "data": {
      "text/plain": [
       "[2,\n",
       " 4,\n",
       " 5,\n",
       " 6,\n",
       " 8,\n",
       " 10,\n",
       " 12,\n",
       " 14,\n",
       " 15,\n",
       " 16,\n",
       " 18,\n",
       " 20,\n",
       " 22,\n",
       " 24,\n",
       " 25,\n",
       " 26,\n",
       " 28,\n",
       " 30,\n",
       " 32,\n",
       " 34,\n",
       " 35,\n",
       " 36,\n",
       " 38,\n",
       " 40,\n",
       " 42,\n",
       " 44,\n",
       " 45,\n",
       " 46,\n",
       " 48,\n",
       " 50,\n",
       " 52,\n",
       " 54,\n",
       " 55,\n",
       " 56,\n",
       " 58,\n",
       " 60,\n",
       " 62,\n",
       " 64,\n",
       " 65,\n",
       " 66,\n",
       " 68,\n",
       " 70,\n",
       " 72,\n",
       " 74,\n",
       " 75,\n",
       " 76,\n",
       " 78,\n",
       " 80,\n",
       " 82,\n",
       " 84,\n",
       " 85,\n",
       " 86,\n",
       " 88,\n",
       " 90,\n",
       " 92,\n",
       " 94,\n",
       " 95,\n",
       " 96,\n",
       " 98,\n",
       " 100]"
      ]
     },
     "execution_count": 10,
     "metadata": {},
     "output_type": "execute_result"
    }
   ],
   "source": [
    "l1"
   ]
  },
  {
   "cell_type": "markdown",
   "id": "20cc6d5a-cecb-4220-be20-9ae2adfe1c71",
   "metadata": {},
   "source": [
    "Write a program to filter count vowels in the below-given string.\n",
    "string = \"I want to become a data scientist\""
   ]
  },
  {
   "cell_type": "code",
   "execution_count": 11,
   "id": "bb1ad73c-e614-4f89-a977-e70fd132fc7f",
   "metadata": {},
   "outputs": [],
   "source": [
    "string = \"I want to become a data scientist\""
   ]
  },
  {
   "cell_type": "code",
   "execution_count": 12,
   "id": "09097097-05d0-41f6-92a4-d1bf376c58dc",
   "metadata": {},
   "outputs": [
    {
     "name": "stdout",
     "output_type": "stream",
     "text": [
      "12\n"
     ]
    }
   ],
   "source": [
    "count = 0\n",
    "for y in string.lower():\n",
    "    if y == 'a' or y == 'e' or y == 'i' or y == 'o' or y == 'u':\n",
    "        count+=1\n",
    "print(count)"
   ]
  }
 ],
 "metadata": {
  "kernelspec": {
   "display_name": "Python 3 (ipykernel)",
   "language": "python",
   "name": "python3"
  },
  "language_info": {
   "codemirror_mode": {
    "name": "ipython",
    "version": 3
   },
   "file_extension": ".py",
   "mimetype": "text/x-python",
   "name": "python",
   "nbconvert_exporter": "python",
   "pygments_lexer": "ipython3",
   "version": "3.10.8"
  }
 },
 "nbformat": 4,
 "nbformat_minor": 5
}
